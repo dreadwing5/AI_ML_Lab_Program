{
 "cells": [
  {
   "cell_type": "code",
   "execution_count": 26,
   "metadata": {},
   "outputs": [
    {
     "name": "stdout",
     "output_type": "stream",
     "text": [
      "Path found: ['F', 'G', 'I']\n"
     ]
    }
   ],
   "source": [
    "def aStarAlgo(start_node, stop_node):\n",
    "    open_set = set(start_node)\n",
    "    closed_set = set()\n",
    "    g = {}               \n",
    "    parents = {}         \n",
    "    g[start_node] = 0\n",
    "    parents[start_node] = start_node\n",
    "    while open_set:\n",
    "        n = min(open_set, key=lambda v: g[v] + heuristic(v))\n",
    "        if n == stop_node or Graph_nodes.get(n)==None:\n",
    "            break\n",
    "        else:\n",
    "            for (m, weight) in get_neighbors(n):\n",
    "                if m not in open_set and m not in closed_set:\n",
    "                    open_set.add(m)\n",
    "                    parents[m] = n\n",
    "                    g[m] = g[n] + weight\n",
    "                #for each node m,compare its distance from start i.e g(m) to the\n",
    "                #from start through n node\n",
    "                else:\n",
    "                    if g[m] > g[n] + weight:\n",
    "                        #update g(m)\n",
    "                        g[m] = g[n] + weight\n",
    "                        #change parent of m to n\n",
    "                        parents[m] = n\n",
    "                        #if m in closed set,remove and add to open\n",
    "                        if m in closed_set:\n",
    "                            closed_set.remove(m)\n",
    "                            open_set.add(m)\n",
    "            open_set.remove(n)\n",
    "            closed_set.add(n)\n",
    "    \n",
    "    \n",
    "    \n",
    "    if stop_node not in parents:\n",
    "        return None \n",
    "        \n",
    "         # Create a path by tracing the parents of each node from the goal to the start\n",
    "    path = [stop_node]\n",
    "    while path[-1] != start_node:\n",
    "        path.append(parents[path[-1]])\n",
    "    path = path[::-1]\n",
    "    return path            \n",
    "\n",
    "\n",
    "\n",
    "def get_neighbors(v):\n",
    "    if v in Graph_nodes:\n",
    "        return Graph_nodes[v]\n",
    "    else:\n",
    "        return None\n",
    "\n",
    "def heuristic(n):\n",
    "    H_dist = {\n",
    "        'A': 11,\n",
    "        'B': 6,\n",
    "        'C': 5,\n",
    "        'D': 7,\n",
    "        'E': 3,\n",
    "        'F': 6,\n",
    "        'G': 5,\n",
    "        'H': 3,\n",
    "        'I': 1,\n",
    "        'J': 0\n",
    "    }\n",
    "    return H_dist[n]\n",
    "\n",
    "#Describe your graph here\n",
    "Graph_nodes = {\n",
    "    'A': [('B', 6), ('F', 3)],\n",
    "    'B': [('A', 6), ('C', 3), ('D', 2)],\n",
    "    'C': [('B', 3), ('D', 1), ('E', 5)],\n",
    "    'D': [('B', 2), ('C', 1), ('E', 8)],\n",
    "    'E': [('C', 5), ('D', 8), ('I', 5), ('J', 5)],\n",
    "    'F': [('A', 3), ('G', 1), ('H', 7)],\n",
    "    'G': [('F', 1), ('I', 3)],\n",
    "    'H': [('F', 7), ('I', 2)],\n",
    "    'I': [('E', 5), ('G', 3), ('H', 2), ('J', 3)],\n",
    "}\n",
    "\n",
    "path = aStarAlgo('F', 'I')\n",
    "if(path):\n",
    "    print('Path found: {}'.format(path))\n",
    "else:\n",
    "    print('Path does not exist!')\n",
    "    "
   ]
  }
 ],
 "metadata": {
  "kernelspec": {
   "display_name": "Python 3",
   "language": "python",
   "name": "python3"
  },
  "language_info": {
   "codemirror_mode": {
    "name": "ipython",
    "version": 3
   },
   "file_extension": ".py",
   "mimetype": "text/x-python",
   "name": "python",
   "nbconvert_exporter": "python",
   "pygments_lexer": "ipython3",
   "version": "3.10.8"
  },
  "vscode": {
   "interpreter": {
    "hash": "aee8b7b246df8f9039afb4144a1f6fd8d2ca17a180786b69acc140d282b71a49"
   }
  }
 },
 "nbformat": 4,
 "nbformat_minor": 2
}

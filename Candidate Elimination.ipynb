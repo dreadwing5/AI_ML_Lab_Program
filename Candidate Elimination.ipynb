{
 "cells": [
  {
   "cell_type": "code",
   "execution_count": 1,
   "metadata": {},
   "outputs": [],
   "source": [
    "# Candidate Elimination Algorithm"
   ]
  },
  {
   "cell_type": "code",
   "execution_count": 1,
   "metadata": {},
   "outputs": [],
   "source": [
    "\n",
    "import numpy as np\n",
    "import pandas as pd"
   ]
  },
  {
   "cell_type": "code",
   "execution_count": 29,
   "metadata": {},
   "outputs": [],
   "source": [
    "def learn(concepts,target):\n",
    "    specific_h=concepts[0].copy()\n",
    "    print(\"Initialization of specific_h\")\n",
    "    print(specific_h)\n",
    "    print(\"Initialization of general_h\")\n",
    "    general_h=[[\"?\" for i in range(len(specific_h))] for i in range(len(specific_h))]\n",
    "    print(general_h)\n",
    "    for i,h in enumerate(concepts):\n",
    "        if target[i]==1:\n",
    "            for x in range(len(specific_h)):\n",
    "                if h[x]!=specific_h[x]:\n",
    "                    specific_h[x]='?'\n",
    "                    general_h[x][x]='?'\n",
    "        if target[i]==0:\n",
    "            for x in range(len(specific_h)):\n",
    "                if h[x]!=specific_h[x]:\n",
    "                    general_h[x][x]=specific_h[x]\n",
    "                else:\n",
    "                    general_h[x][x]='?'\n",
    "    print(\"Specific hypothesis : \")\n",
    "    print(specific_h)\n",
    "    print(\"General hypothesis: \")\n",
    "    print(general_h)\n",
    "    indices = filter(lambda row : row != ['?','?','?','?','?'], general_h)\n",
    "    general_h = list(indices)\n",
    "    return specific_h,general_h\n"
   ]
  },
  {
   "cell_type": "code",
   "execution_count": 30,
   "metadata": {},
   "outputs": [
    {
     "name": "stdout",
     "output_type": "stream",
     "text": [
      "Dataset : \n",
      "           0      1      2          3      4  5\n",
      "0  circular  large  light     smooth  thick  1\n",
      "1  circular  large  light  irregular  thick  1\n",
      "2      oval  large   dark     smooth   thin  0\n",
      "3      oval  large  light  irregular  thick  1\n",
      "Concepts : \n",
      " [['circular' 'large' 'light' 'smooth' 'thick']\n",
      " ['circular' 'large' 'light' 'irregular' 'thick']\n",
      " ['oval' 'large' 'dark' 'smooth' 'thin']\n",
      " ['oval' 'large' 'light' 'irregular' 'thick']]\n",
      "Target : \n",
      " [1 1 0 1]\n",
      "Initialization of specific_h\n",
      "['circular' 'large' 'light' 'smooth' 'thick']\n",
      "Initialization of general_h\n",
      "[['?', '?', '?', '?', '?'], ['?', '?', '?', '?', '?'], ['?', '?', '?', '?', '?'], ['?', '?', '?', '?', '?'], ['?', '?', '?', '?', '?']]\n",
      "Specific hypothesis : \n",
      "['?' 'large' 'light' '?' 'thick']\n",
      "General hypothesis: \n",
      "[['?', '?', '?', '?', '?'], ['?', '?', '?', '?', '?'], ['?', '?', 'light', '?', '?'], ['?', '?', '?', '?', '?'], ['?', '?', '?', '?', 'thick']]\n",
      "Final specific_h  ['?' 'large' 'light' '?' 'thick']\n",
      "Final general_h  [['?', '?', 'light', '?', '?'], ['?', '?', '?', '?', 'thick']]\n"
     ]
    }
   ],
   "source": [
    "data=pd.read_csv('ce.csv', header=None)\n",
    "data=pd.DataFrame(data)\n",
    "print(\"Dataset : \\n\",data)\n",
    "concepts=np.array(data.iloc[:,0:-1])\n",
    "target=np.array(data.iloc[:,-1])\n",
    "print(\"Concepts : \\n\",concepts)\n",
    "print(\"Target : \\n\",target)\n",
    "s_final,g_final=learn(concepts,target)\n",
    "print(\"Final specific_h \",s_final)\n",
    "print(\"Final general_h \",g_final)"
   ]
  }
 ],
 "metadata": {
  "kernelspec": {
   "display_name": "Python 3",
   "language": "python",
   "name": "python3"
  },
  "language_info": {
   "codemirror_mode": {
    "name": "ipython",
    "version": 3
   },
   "file_extension": ".py",
   "mimetype": "text/x-python",
   "name": "python",
   "nbconvert_exporter": "python",
   "pygments_lexer": "ipython3",
   "version": "3.8.5"
  },
  "vscode": {
   "interpreter": {
    "hash": "aee8b7b246df8f9039afb4144a1f6fd8d2ca17a180786b69acc140d282b71a49"
   }
  }
 },
 "nbformat": 4,
 "nbformat_minor": 5
}

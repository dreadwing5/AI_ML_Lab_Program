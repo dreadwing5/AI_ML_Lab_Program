{
 "cells": [
  {
   "cell_type": "code",
   "execution_count": 1,
   "metadata": {},
   "outputs": [],
   "source": [
    "import heapq\n",
    "\n",
    "def a_star(graph, h, start, goal):\n",
    "    # Create a priority queue to store the next node to explore\n",
    "    queue = []\n",
    "    \n",
    "    # Push the starting node into the queue with a priority of 0\n",
    "    heapq.heappush(queue, (0, start))\n",
    "\n",
    "    # Create a dictionary to store the cost of each node\n",
    "    cost = {start: 0}\n",
    "\n",
    "    # Create a dictionary to store the parent of each node\n",
    "    parent = {start: None}\n",
    "\n",
    "    # Create a set to keep track of visited nodes\n",
    "    visited = set()\n",
    "\n",
    "    # While the queue is not empty\n",
    "    while queue:\n",
    "        # Pop the node with the lowest cost from the queue\n",
    "        current = heapq.heappop(queue)[1]\n",
    "\n",
    "        # If the current node is the goal, we are done\n",
    "        if current == goal:\n",
    "            break\n",
    "\n",
    "        # If the current node has not been visited\n",
    "        if current not in visited:\n",
    "            # Mark it as visited\n",
    "            visited.add(current)\n",
    "\n",
    "            # For each of the current node's neighbors\n",
    "            for neighbor, distance in graph[current]:\n",
    "                # Calculate the cost of reaching the neighbor\n",
    "                new_cost = cost[current] + distance\n",
    "\n",
    "                # If the neighbor has not been visited or the new cost is lower than the previous cost\n",
    "                if neighbor not in cost or new_cost < cost[neighbor]:\n",
    "                    # Update the cost of the neighbor\n",
    "                    cost[neighbor] = new_cost\n",
    "\n",
    "                    # Calculate the priority of exploring the neighbor (f = g + h)\n",
    "                    priority = new_cost + h[neighbor]\n",
    "\n",
    "                    # Push the neighbor into the queue with the calculated priority\n",
    "                    heapq.heappush(queue, (priority, neighbor))\n",
    "\n",
    "                    # Update the parent of the neighbor\n",
    "                    parent[neighbor] = current\n",
    "          # If the goal was not reached, return None\n",
    "    if goal not in parent:\n",
    "         return None\n",
    "\n",
    "    # Create a path by tracing the parents of each node from the goal to the start\n",
    "    path = [goal]\n",
    "    while path[-1] != start:\n",
    "        path.append(parent[path[-1]])\n",
    "\n",
    "    # Reverse the path to get the correct order\n",
    "    path = path[::-1]\n",
    "    \n",
    "    return path\n",
    "\n",
    "# Return the path, the cost of the path, and the number of nodes visited          \n",
    "\n"
   ]
  },
  {
   "cell_type": "code",
   "execution_count": 2,
   "metadata": {},
   "outputs": [
    {
     "name": "stdout",
     "output_type": "stream",
     "text": [
      "PATH FOUND\n",
      "['A', 'F', 'G', 'I', 'J']\n"
     ]
    }
   ],
   "source": [
    "graph = {\n",
    "    'A': [('B', 6), ('F', 3)],\n",
    "    'B': [('A', 6), ('C', 3), ('D', 2)],\n",
    "    'C': [('B', 3), ('D', 1), ('E', 5)],\n",
    "    'D': [('B', 2), ('C', 1), ('E', 8)],\n",
    "    'E': [('C', 5), ('D', 8), ('I', 5), ('J', 5)],\n",
    "    'F': [('A', 3), ('G', 1), ('H', 7)],\n",
    "    'G': [('F', 1), ('I', 3)],\n",
    "    'H': [('F', 7), ('I', 2)],\n",
    "    'I': [('E', 5), ('G', 3), ('H', 2), ('J', 3)],\n",
    "}\n",
    "\n",
    "h = {\n",
    "        'A': 11,\n",
    "        'B': 6,\n",
    "        'C': 5,\n",
    "        'D': 7,\n",
    "        'E': 3,\n",
    "        'F': 6,\n",
    "        'G': 5,\n",
    "        'H': 3,\n",
    "        'I': 1,\n",
    "        'J': 0\n",
    "    }\n",
    "\n",
    "path = a_star(graph, h, 'A', 'J')\n",
    "\n",
    "if(path):\n",
    "    print(\"PATH FOUND\")\n",
    "    print(path)\n",
    "else:\n",
    "    print(\"No path exist\")\n"
   ]
  },
  {
   "cell_type": "code",
   "execution_count": null,
   "metadata": {},
   "outputs": [],
   "source": []
  }
 ],
 "metadata": {
  "kernelspec": {
   "display_name": "Python 3",
   "language": "python",
   "name": "python3"
  },
  "language_info": {
   "codemirror_mode": {
    "name": "ipython",
    "version": 3
   },
   "file_extension": ".py",
   "mimetype": "text/x-python",
   "name": "python",
   "nbconvert_exporter": "python",
   "pygments_lexer": "ipython3",
   "version": "3.8.5"
  },
  "vscode": {
   "interpreter": {
    "hash": "1a1af0ee75eeea9e2e1ee996c87e7a2b11a0bebd85af04bb136d915cefc0abce"
   }
  }
 },
 "nbformat": 4,
 "nbformat_minor": 2
}
